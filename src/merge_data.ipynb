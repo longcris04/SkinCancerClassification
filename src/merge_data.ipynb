{
 "cells": [
  {
   "cell_type": "markdown",
   "id": "a7838509",
   "metadata": {},
   "source": [
    "# Code to merge train and test folder into all folder of BVDLTW"
   ]
  },
  {
   "cell_type": "code",
   "execution_count": 2,
   "id": "4dd2e006",
   "metadata": {},
   "outputs": [],
   "source": [
    "import os \n",
    "import shutil\n",
    "import glob"
   ]
  },
  {
   "cell_type": "code",
   "execution_count": 5,
   "id": "e6f31b78",
   "metadata": {},
   "outputs": [
    {
     "name": "stdout",
     "output_type": "stream",
     "text": [
      "finished copying 107 from ./../../Datasets/BVDLTW/data_raw/train/raw/ to ./../../Datasets/BVDLTW/data_raw/all/raw/107\n",
      "finished copying 105 from ./../../Datasets/BVDLTW/data_raw/train/raw/ to ./../../Datasets/BVDLTW/data_raw/all/raw/105\n",
      "finished copying 46 from ./../../Datasets/BVDLTW/data_raw/train/raw/ to ./../../Datasets/BVDLTW/data_raw/all/raw/46\n",
      "finished copying 106 from ./../../Datasets/BVDLTW/data_raw/train/raw/ to ./../../Datasets/BVDLTW/data_raw/all/raw/106\n",
      "finished copying 103 from ./../../Datasets/BVDLTW/data_raw/train/raw/ to ./../../Datasets/BVDLTW/data_raw/all/raw/103\n",
      "finished copying 104 from ./../../Datasets/BVDLTW/data_raw/train/raw/ to ./../../Datasets/BVDLTW/data_raw/all/raw/104\n",
      "finished copying 109 from ./../../Datasets/BVDLTW/data_raw/train/raw/ to ./../../Datasets/BVDLTW/data_raw/all/raw/109\n",
      "finished copying 45 from ./../../Datasets/BVDLTW/data_raw/train/raw/ to ./../../Datasets/BVDLTW/data_raw/all/raw/45\n",
      "finished copying 102 from ./../../Datasets/BVDLTW/data_raw/train/raw/ to ./../../Datasets/BVDLTW/data_raw/all/raw/102\n",
      "finished copying 101 from ./../../Datasets/BVDLTW/data_raw/train/raw/ to ./../../Datasets/BVDLTW/data_raw/all/raw/101\n",
      "finished copying 43 from ./../../Datasets/BVDLTW/data_raw/train/raw/ to ./../../Datasets/BVDLTW/data_raw/all/raw/43\n",
      "finished copying 44 from ./../../Datasets/BVDLTW/data_raw/train/raw/ to ./../../Datasets/BVDLTW/data_raw/all/raw/44\n",
      "finished copying 3 from ./../../Datasets/BVDLTW/data_raw/train/raw/ to ./../../Datasets/BVDLTW/data_raw/all/raw/3\n",
      "finished copying 13 from ./../../Datasets/BVDLTW/data_raw/train/raw/ to ./../../Datasets/BVDLTW/data_raw/all/raw/13\n",
      "finished copying 40 from ./../../Datasets/BVDLTW/data_raw/train/raw/ to ./../../Datasets/BVDLTW/data_raw/all/raw/40\n",
      "finished copying 14 from ./../../Datasets/BVDLTW/data_raw/train/raw/ to ./../../Datasets/BVDLTW/data_raw/all/raw/14\n",
      "finished copying 4 from ./../../Datasets/BVDLTW/data_raw/train/raw/ to ./../../Datasets/BVDLTW/data_raw/all/raw/4\n",
      "finished copying 12 from ./../../Datasets/BVDLTW/data_raw/train/raw/ to ./../../Datasets/BVDLTW/data_raw/all/raw/12\n",
      "finished copying 60 from ./../../Datasets/BVDLTW/data_raw/train/raw/ to ./../../Datasets/BVDLTW/data_raw/all/raw/60\n",
      "finished copying 107 from ./../../Datasets/BVDLTW/data_raw/test/raw/ to ./../../Datasets/BVDLTW/data_raw/all/raw/107\n",
      "finished copying 105 from ./../../Datasets/BVDLTW/data_raw/test/raw/ to ./../../Datasets/BVDLTW/data_raw/all/raw/105\n",
      "finished copying 46 from ./../../Datasets/BVDLTW/data_raw/test/raw/ to ./../../Datasets/BVDLTW/data_raw/all/raw/46\n",
      "finished copying 106 from ./../../Datasets/BVDLTW/data_raw/test/raw/ to ./../../Datasets/BVDLTW/data_raw/all/raw/106\n",
      "finished copying 103 from ./../../Datasets/BVDLTW/data_raw/test/raw/ to ./../../Datasets/BVDLTW/data_raw/all/raw/103\n",
      "finished copying 104 from ./../../Datasets/BVDLTW/data_raw/test/raw/ to ./../../Datasets/BVDLTW/data_raw/all/raw/104\n",
      "finished copying 109 from ./../../Datasets/BVDLTW/data_raw/test/raw/ to ./../../Datasets/BVDLTW/data_raw/all/raw/109\n",
      "finished copying 45 from ./../../Datasets/BVDLTW/data_raw/test/raw/ to ./../../Datasets/BVDLTW/data_raw/all/raw/45\n",
      "finished copying 102 from ./../../Datasets/BVDLTW/data_raw/test/raw/ to ./../../Datasets/BVDLTW/data_raw/all/raw/102\n",
      "finished copying 101 from ./../../Datasets/BVDLTW/data_raw/test/raw/ to ./../../Datasets/BVDLTW/data_raw/all/raw/101\n",
      "finished copying 43 from ./../../Datasets/BVDLTW/data_raw/test/raw/ to ./../../Datasets/BVDLTW/data_raw/all/raw/43\n",
      "finished copying 44 from ./../../Datasets/BVDLTW/data_raw/test/raw/ to ./../../Datasets/BVDLTW/data_raw/all/raw/44\n",
      "finished copying 3 from ./../../Datasets/BVDLTW/data_raw/test/raw/ to ./../../Datasets/BVDLTW/data_raw/all/raw/3\n",
      "finished copying 13 from ./../../Datasets/BVDLTW/data_raw/test/raw/ to ./../../Datasets/BVDLTW/data_raw/all/raw/13\n",
      "finished copying 40 from ./../../Datasets/BVDLTW/data_raw/test/raw/ to ./../../Datasets/BVDLTW/data_raw/all/raw/40\n",
      "finished copying 14 from ./../../Datasets/BVDLTW/data_raw/test/raw/ to ./../../Datasets/BVDLTW/data_raw/all/raw/14\n",
      "finished copying 4 from ./../../Datasets/BVDLTW/data_raw/test/raw/ to ./../../Datasets/BVDLTW/data_raw/all/raw/4\n",
      "finished copying 12 from ./../../Datasets/BVDLTW/data_raw/test/raw/ to ./../../Datasets/BVDLTW/data_raw/all/raw/12\n",
      "finished copying 60 from ./../../Datasets/BVDLTW/data_raw/test/raw/ to ./../../Datasets/BVDLTW/data_raw/all/raw/60\n"
     ]
    }
   ],
   "source": [
    "data_path = \"./../../Datasets/BVDLTW/data_raw/\"\n",
    "test_path = data_path + \"test/raw/\"\n",
    "train_path = data_path + \"train/raw/\"\n",
    "\n",
    "all_path = data_path + \"all/raw/\"\n",
    "if os.path.exists(all_path):\n",
    "    shutil.rmtree(all_path)\n",
    "os.makedirs(all_path)\n",
    "for path in [train_path,test_path]:\n",
    "    for class_name in os.listdir(path):\n",
    "        target_path = os.path.join(all_path, class_name)\n",
    "        if not os.path.exists(target_path):\n",
    "            os.makedirs(target_path)\n",
    "        class_path = os.path.join(path, class_name)\n",
    "        files = [file for file in glob.iglob(f\"{class_path}/*\")]\n",
    "        # copy to target path using shutil\n",
    "        for file in files:\n",
    "            shutil.copy(file, target_path)\n",
    "        print(f\"finished copying {class_name} from {path} to {target_path}\")\n",
    "\n"
   ]
  },
  {
   "cell_type": "code",
   "execution_count": 11,
   "id": "da68d38c",
   "metadata": {},
   "outputs": [
    {
     "name": "stdout",
     "output_type": "stream",
     "text": [
      "StratifiedKFold(n_splits=2, random_state=None, shuffle=False)\n",
      "Fold 0:\n",
      "  Train: index=[2 3]\n",
      "  Test:  index=[0 1]\n",
      "Fold 1:\n",
      "  Train: index=[0 1]\n",
      "  Test:  index=[2 3]\n"
     ]
    }
   ],
   "source": [
    "import numpy as np\n",
    "from sklearn.model_selection import StratifiedKFold\n",
    "X = np.array([[1, 2], [3, 4], [1, 2], [3, 4]])\n",
    "y = np.array([0,3, 0, 3])\n",
    "skf = StratifiedKFold(n_splits=2)\n",
    "skf.get_n_splits(X, y)\n",
    "print(skf)\n",
    "for i, (train_index, test_index) in enumerate(skf.split(X, y)):\n",
    "    print(f\"Fold {i}:\")\n",
    "    print(f\"  Train: index={train_index}\")\n",
    "    print(f\"  Test:  index={test_index}\")"
   ]
  },
  {
   "cell_type": "code",
   "execution_count": 17,
   "id": "0b0e78e8",
   "metadata": {},
   "outputs": [
    {
     "name": "stdout",
     "output_type": "stream",
     "text": [
      "1\n",
      "2\n",
      "3\n"
     ]
    }
   ],
   "source": [
    "a = {1,2,3}\n",
    "a = list(a)\n",
    "for i in range(len(a)):\n",
    "    print(a[i])"
   ]
  }
 ],
 "metadata": {
  "kernelspec": {
   "display_name": "FLearning",
   "language": "python",
   "name": "python3"
  },
  "language_info": {
   "codemirror_mode": {
    "name": "ipython",
    "version": 3
   },
   "file_extension": ".py",
   "mimetype": "text/x-python",
   "name": "python",
   "nbconvert_exporter": "python",
   "pygments_lexer": "ipython3",
   "version": "3.9.19"
  }
 },
 "nbformat": 4,
 "nbformat_minor": 5
}
